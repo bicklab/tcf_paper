{
 "cells": [
  {
   "cell_type": "code",
   "execution_count": null,
   "metadata": {},
   "outputs": [],
   "source": [
    "## Package Import\n",
    "import sys\n",
    "import os \n",
    "import numpy as np\n",
    "import pandas as pd\n",
    "from datetime import datetime\n",
    "import glob"
   ]
  },
  {
   "cell_type": "markdown",
   "metadata": {},
   "source": [
    "## Shell script and R script were generated in the testing script under the tcr-quant-replication workspace copied here for new workspace"
   ]
  },
  {
   "cell_type": "code",
   "execution_count": null,
   "metadata": {},
   "outputs": [],
   "source": [
    "## Setting for running dsub jobs\n",
    "pd.set_option('display.max_colwidth', 0)"
   ]
  },
  {
   "cell_type": "code",
   "execution_count": null,
   "metadata": {},
   "outputs": [],
   "source": [
    "USER_NAME = os.getenv('OWNER_EMAIL').split('@')[0].replace('.','-')\n",
    "\n",
    "# Save this Python variable as an environment variable so that its easier to use within %%bash cells.\n",
    "%env USER_NAME={USER_NAME}"
   ]
  },
  {
   "cell_type": "code",
   "execution_count": null,
   "metadata": {},
   "outputs": [],
   "source": [
    "## MODIFY FOR FULL DATA RUN\n",
    "# Use hyphens, not whitespace since it will become part of the bucket path.\n",
    "##TODO: ADD JOB NAME\n",
    "JOB_NAME=''\n",
    "\n",
    "# Save this Python variable as an environment variable so that its easier to use within %%bash cells.\n",
    "%env JOB_NAME={JOB_NAME}"
   ]
  },
  {
   "cell_type": "code",
   "execution_count": null,
   "metadata": {},
   "outputs": [],
   "source": [
    "## Analysis Results Folder\n",
    "line_count_results_folder = os.path.join(\n",
    "    os.getenv('WORKSPACE_BUCKET'),\n",
    "    'dsub',\n",
    "    'results',\n",
    "    JOB_NAME,\n",
    "    USER_NAME,\n",
    "    datetime.now().strftime('%Y%m%d'))\n",
    "\n",
    "line_count_results_folder"
   ]
  },
  {
   "cell_type": "code",
   "execution_count": null,
   "metadata": {},
   "outputs": [],
   "source": [
    "## Where the output files will go\n",
    "output_files = os.path.join(line_count_results_folder, \"results\")\n",
    "print(output_files)"
   ]
  },
  {
   "cell_type": "code",
   "execution_count": null,
   "metadata": {},
   "outputs": [],
   "source": [
    "OUTPUT_FILES = output_files\n",
    "\n",
    "\n",
    "# Save this Python variable as an environment variable so that its easier to use within %%bash cells.\n",
    "%env OUTPUT_FILES={OUTPUT_FILES}"
   ]
  },
  {
   "cell_type": "markdown",
   "metadata": {},
   "source": [
    "## R script for T-cell Extrect"
   ]
  },
  {
   "cell_type": "code",
   "execution_count": null,
   "metadata": {},
   "outputs": [],
   "source": [
    "%%writefile ~/tcell_extrect.R\n",
    "\n",
    "#!/usr/bin env Rscript --vanilla\n",
    "## Loading library\n",
    "library(TcellExTRECT)\n",
    "coverage_file <- commandArgs(trailingOnly=TRUE)[1]\n",
    "outfile <- commandArgs(trailingOnly=TRUE)[2]\n",
    "\n",
    "loaded_cov_file <- loadCov(coverage_file)\n",
    "\n",
    "TCRA.out <- runTcellExTRECT(loaded_cov_file, TCRA_exons_hg38, tcra_seg_hg38, 'hg38')\n",
    "\n",
    "\n",
    "write.table(TCRA.out, file=outfile, sep='\\t')"
   ]
  },
  {
   "cell_type": "markdown",
   "metadata": {},
   "source": [
    "### Shell Script for TcellExTRECT"
   ]
  },
  {
   "cell_type": "code",
   "execution_count": null,
   "metadata": {},
   "outputs": [],
   "source": [
    "%%writefile ~/tcell_extrect.sh\n",
    "\n",
    "set -o pipefail\n",
    "set -o errexit\n",
    "\n",
    "# ---------Required Inputs---------\n",
    "\n",
    "# Given a .txt file - get X samples.\n",
    "# For parallel submissions:\n",
    "# - Use a different .txt file per submission.\n",
    "# - Each .txt file can contain a different number of lines\n",
    "INPUT_FILES_PATH=\"$(dirname \"${INPUT_FILES}\")\"\n",
    "INPUT_FILES_PATTERN=\"$(basename \"${INPUT_FILES}\")\"\n",
    "readonly tcr_results=( $(ls \"${INPUT_FILES_PATH}\"/${INPUT_FILES_PATTERN}) )\n",
    "echo \"INPUT_FILES_PATH: ${INPUT_FILES_PATH}\"\n",
    "echo \"INPUT_FILES_PATTERN: ${INPUT_FILES_PATTERN}\"\n",
    "echo \"tcr_results: ${tcr_results}\"\n",
    "# ---------Required Output---------\n",
    "\n",
    "for (( i=0; i<${#tcr_results[@]}; i++ ));\n",
    "do\n",
    "    export tcr_results_txt=${tcr_results[i]}\n",
    "    export tcr_results_txt_name=`basename ${tcr_results_txt}`  # file_name.txt\n",
    "    export txt_input=\"${tcr_results_txt}\"\n",
    "    sample_id=($(echo ${tcr_results_txt_name} | cut -d'.' -f1))\n",
    "    # ----------------------------------WORKFLOW----------------------------------\n",
    "        ##Run R-Script for T-Cell Extrect\n",
    "    R < \"${tca_rscript}\" --vanilla --args \"${txt_input}\" ${sample_id}_fraction.txt\n",
    "\n",
    "    # Outputs\n",
    "    export tcr_fraction_txt=\"${sample_id}_fraction.txt\"\n",
    "    echo \"tcr_fraction_txt: ${tcr_fraction_txt}\"\n",
    "\n",
    "    # Disk space\n",
    "    echo \"Disk space taken up so far:\"\n",
    "    du -d 1 -h\n",
    "    echo \"${i} run(s) finished.\"\n",
    "\n",
    "    #Move results to output directory\n",
    "    mv ${tcr_fraction_txt} ${OUTPUT_PATH}\n",
    "done"
   ]
  },
  {
   "cell_type": "markdown",
   "metadata": {},
   "source": [
    "### All of Us Dsub Command "
   ]
  },
  {
   "cell_type": "code",
   "execution_count": null,
   "metadata": {},
   "outputs": [],
   "source": [
    "%%bash --out LINE_COUNT_JOB_ID\n",
    "\n",
    "# Get a shorter username to leave more characters for the job name.\n",
    "DSUB_USER_NAME=\"$(echo \"${OWNER_EMAIL}\" | cut -d@ -f1)\"\n",
    "\n",
    "# For AoU RWB projects network name is \"network\".\n",
    "AOU_NETWORK=network\n",
    "AOU_SUBNETWORK=subnetwork\n",
    "\n",
    "# Get all tcr_files\n",
    "bashArray=()\n",
    "\n",
    "while read line; do\n",
    "  bashArray+=($line)\n",
    "done < ## TODO: Make file of filepaths to read\n",
    "\n",
    "# Length of entire array\n",
    "len_bashArray=${#bashArray[@]}\n",
    "\n",
    "LOWER=2830\n",
    "UPPER=2831\n",
    "DATE=20230424\n",
    "MACHINE_TYPE=\"n2-standard-4\"\n",
    "##TODO: update bash script pathway\n",
    "BASH_SCRIPT=\"\"\n",
    "for ((batch=$LOWER;batch<$UPPER;batch+=1))\n",
    "do\n",
    "dsub \\\n",
    "    --provider google-cls-v2 \\\n",
    "    --project \"${GOOGLE_PROJECT}\"\\\n",
    "    --network \"${AOU_NETWORK}\" \\\n",
    "    --subnetwork \"${AOU_SUBNETWORK}\" \\\n",
    "    --service-account \"$(gcloud config get-value account)\" \\\n",
    "    --user \"${DSUB_USER_NAME}\" \\\n",
    "    --regions us-central1 \\\n",
    "    --logging \"\" \\ ## TODO add loging pathway\n",
    "    \"$@\" \\\n",
    "    --preemptible \\\n",
    "    --boot-disk-size 100 \\\n",
    "    --machine-type ${MACHINE_TYPE} \\\n",
    "    --disk-size 100 \\\n",
    "    --name \"${JOB_NAME}\" \\\n",
    "    --script \"${BASH_SCRIPT}\" \\\n",
    "    --image 'gcr.io/bick-aps2/briansha/tcellextrect:latest' \\\n",
    "    --env GOOGLE_PROJECT=${GOOGLE_PROJECT} \\\n",
    "    --input tca_rscript=\"\" \\ ## TODO add pathway to R script\n",
    "    --input INPUT_FILES=${bashArray[batch]} \\\n",
    "    --output-recursive OUTPUT_PATH=\"${OUTPUT_FILES}/${batch}\"\n",
    "done"
   ]
  }
 ],
 "metadata": {
  "kernelspec": {
   "display_name": "Python 3",
   "language": "python",
   "name": "python3"
  },
  "language_info": {
   "codemirror_mode": {
    "name": "ipython",
    "version": 3
   },
   "file_extension": ".py",
   "mimetype": "text/x-python",
   "name": "python",
   "nbconvert_exporter": "python",
   "pygments_lexer": "ipython3",
   "version": "3.11.4"
  },
  "toc": {
   "base_numbering": 1,
   "nav_menu": {},
   "number_sections": true,
   "sideBar": true,
   "skip_h1_title": false,
   "title_cell": "Table of Contents",
   "title_sidebar": "Contents",
   "toc_cell": false,
   "toc_position": {},
   "toc_section_display": true,
   "toc_window_display": false
  }
 },
 "nbformat": 4,
 "nbformat_minor": 2
}
