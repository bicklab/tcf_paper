{
 "cells": [
  {
   "cell_type": "code",
   "execution_count": null,
   "metadata": {},
   "outputs": [],
   "source": [
    "## Package Import\n",
    "import sys\n",
    "import os \n",
    "import numpy as np\n",
    "import pandas as pd\n",
    "from datetime import datetime"
   ]
  },
  {
   "cell_type": "code",
   "execution_count": null,
   "metadata": {},
   "outputs": [],
   "source": [
    "## Setting for running dsub jobs\n",
    "pd.set_option('display.max_colwidth', 0)"
   ]
  },
  {
   "cell_type": "code",
   "execution_count": null,
   "metadata": {},
   "outputs": [],
   "source": [
    "USER_NAME = os.getenv('OWNER_EMAIL').split('@')[0].replace('.','-')\n",
    "\n",
    "# Save this Python variable as an environment variable so that its easier to use within %%bash cells.\n",
    "%env USER_NAME={USER_NAME}"
   ]
  },
  {
   "cell_type": "code",
   "execution_count": null,
   "metadata": {},
   "outputs": [],
   "source": [
    "## MODIFY FOR FULL DATA RUN\n",
    "# Use hyphens, not whitespace since it will become part of the bucket path.\n",
    "## TODO: add job name\n",
    "JOB_NAME=''\n",
    "\n",
    "# Save this Python variable as an environment variable so that its easier to use within %%bash cells.\n",
    "%env JOB_NAME={JOB_NAME}"
   ]
  },
  {
   "cell_type": "code",
   "execution_count": null,
   "metadata": {},
   "outputs": [],
   "source": [
    "## Analysis Results Folder\n",
    "line_count_results_folder = os.path.join(\n",
    "    os.getenv('WORKSPACE_BUCKET'),\n",
    "    'dsub',\n",
    "    'results',\n",
    "    JOB_NAME,\n",
    "    USER_NAME,\n",
    "    datetime.now().strftime('%Y%m%d'))\n",
    "\n",
    "line_count_results_folder"
   ]
  },
  {
   "cell_type": "code",
   "execution_count": null,
   "metadata": {},
   "outputs": [],
   "source": [
    "## Where the output files will go\n",
    "output_files = os.path.join(line_count_results_folder, \"results\")\n",
    "print(output_files)"
   ]
  },
  {
   "cell_type": "code",
   "execution_count": null,
   "metadata": {},
   "outputs": [],
   "source": [
    "OUTPUT_FILES = output_files\n",
    "\n",
    "\n",
    "# Save this Python variable as an environment variable so that its easier to use within %%bash cells.\n",
    "%env OUTPUT_FILES={OUTPUT_FILES}"
   ]
  },
  {
   "cell_type": "markdown",
   "metadata": {},
   "source": [
    "## Print reads and read depth into one step"
   ]
  },
  {
   "cell_type": "code",
   "execution_count": null,
   "metadata": {},
   "outputs": [],
   "source": [
    "Can be modified for bams"
   ]
  },
  {
   "cell_type": "code",
   "execution_count": null,
   "metadata": {},
   "outputs": [],
   "source": [
    "%%writefile ~/printreads_depth.sh\n",
    "\n",
    "set -o pipefail\n",
    "set -o errexit\n",
    "\n",
    "\n",
    "# ---------Required Inputs---------\n",
    "# aou_crams - A .txt file containing gs:// paths to cram samples.\n",
    "\n",
    "# Given a .txt file - get X samples.\n",
    "# For parallel submissions:\n",
    "# - Use a different .txt file per submission.\n",
    "# - Each .txt file can contain a different number of lines\n",
    "aou_crams_len=$(wc -l < ${aou_crams})\n",
    "echo \"Samples in cramlist: ${aou_crams_len}\"\n",
    "\n",
    "# ---------Required Output---------\n",
    "#filtered_cram_output\n",
    "\n",
    "echo \"GOOGLE_PROJECT: ${GOOGLE_PROJECT}\"\n",
    "echo \"OUTPUT_PATH: ${OUTPUT_PATH}\"\n",
    "echo \"ref_dict: ${ref_dict}\"\n",
    "echo \"ref_fai: ${ref_fai}\"\n",
    "echo \"ref_fasta: ${ref_fasta}\"\n",
    "\n",
    "# Perform runs for x samples.\n",
    "for (( i=1; i<$aou_crams_len+1; i++ ));\n",
    "do\n",
    "\n",
    "    # These change per iteration\n",
    "    export aou_cram_reads=$(sed \"${i}!d;q\" \"${aou_crams}\")   # gs:// path to a cram sample\n",
    "    export aou_cram_reads_name=`basename ${aou_cram_reads}`  # file_name.cram\n",
    "    export aou_cram_reads_prefix=\"${aou_cram_reads_name%.*}\" # file_name\n",
    "    echo \"aou_cram_reads: ${aou_cram_reads}\"\n",
    "    echo \"aou_cram_reads_name: ${aou_cram_reads_name}\"\n",
    "    echo \"aou_cram_reads_prefix: ${aou_cram_reads_prefix}\"\n",
    "\n",
    "    # ----------------------------------WORKFLOW----------------------------------\n",
    "\n",
    "    # Stream CRAM found at gs:// path into a new, smaller CRAM based on genomic intervals given with -L.\n",
    "    /gatk/gatk PrintReads \\\n",
    "        -I ${aou_cram_reads} \\\n",
    "        -L \"chr14:21621904-22552132\" \\\n",
    "        -R \"${ref_fasta}\" \\\n",
    "        -O \"${aou_cram_reads_prefix}_tcr.cram\" \\\n",
    "        --gcs-project-for-requester-pays ${GOOGLE_PROJECT} \\\n",
    "        --cloud-prefetch-buffer 0 --cloud-index-prefetch-buffer 0\n",
    "\n",
    "    # Create CRAI index file for the new CRAM.\n",
    "    samtools index \"${aou_cram_reads_prefix}_tcr.cram\" \"${aou_cram_reads_prefix}_tcr.crai\"\n",
    "    \n",
    "    samtools depth -a --reference ${ref_fasta} -r chr14:21621904-22552132 \"${aou_cram_reads_prefix}_tcr.cram\" > \"${aou_cram_reads_prefix}_tcr.txt\"\n",
    "\n",
    "\n",
    "    # Outputs\n",
    "    export tcr_depth_tsv=\"${aou_cram_reads_prefix}_tcr.txt\"\n",
    "    echo \"tcr_depth_tsv: ${tcr_depth_tsv}\"\n",
    "\n",
    "    # Disk space\n",
    "    echo \"Disk space taken up so far:\"\n",
    "    du -d 1 -h\n",
    "    echo \"${i} run(s) finished.\"\n",
    "\n",
    "    # Move results to output directory\n",
    "    mv ${tcr_depth_tsv} ${OUTPUT_PATH}\n",
    "done"
   ]
  },
  {
   "cell_type": "code",
   "execution_count": null,
   "metadata": {},
   "outputs": [],
   "source": [
    "%%bash --out LINE_COUNT_JOB_ID\n",
    "\n",
    "# Get a shorter username to leave more characters for the job name.\n",
    "DSUB_USER_NAME=\"$(echo \"${OWNER_EMAIL}\" | cut -d@ -f1)\"\n",
    "\n",
    "# For AoU RWB projects network name is \"network\".\n",
    "AOU_NETWORK=network\n",
    "AOU_SUBNETWORK=subnetwork\n",
    "\n",
    "# Get all cramlists\n",
    "bashArray=()\n",
    "\n",
    "while read line; do\n",
    "  bashArray+=($line)\n",
    "done < ## TODO add pathway to bam/cram pathway\n",
    "\n",
    "# Length of entire array\n",
    "len_bashArray=${#bashArray[@]}\n",
    "\n",
    "##TODO fill in lower and upper based on bash array lenght\n",
    "LOWER=\n",
    "UPPER=\n",
    "DATE=\n",
    "MACHINE_TYPE=\"n2-standard-4\"\n",
    "BASH_SCRIPT=\"\" ## TODO add bash script pathway\n",
    "for ((batch=$LOWER;batch<$UPPER;batch+=1))\n",
    "do\n",
    "    dsub \\\n",
    "        --provider google-cls-v2 \\\n",
    "        --user-project \"${GOOGLE_PROJECT}\"\\\n",
    "        --project \"${GOOGLE_PROJECT}\"\\\n",
    "        --network \"${AOU_NETWORK}\" \\\n",
    "        --subnetwork \"${AOU_SUBNETWORK}\" \\\n",
    "        --service-account \"$(gcloud config get-value account)\" \\\n",
    "        --user \"${DSUB_USER_NAME}\" \\\n",
    "        --regions us-central1 \\\n",
    "        --logging \"${WORKSPACE_BUCKET}/dsub/logs/{job-name}/{user-id}/${DATE}/${bashArray[batch]}.log\" \\\n",
    "        \"$@\" \\\n",
    "        --preemptible \\\n",
    "        --boot-disk-size 100 \\\n",
    "        --machine-type ${MACHINE_TYPE} \\\n",
    "        --disk-size 100 \\\n",
    "        --name \"${JOB_NAME}\" \\\n",
    "        --script \"${BASH_SCRIPT}\" \\\n",
    "        --image 'gcr.io/bick-aps2/briansha/pileup_preprocessing:latest' \\\n",
    "        --env GOOGLE_PROJECT=${GOOGLE_PROJECT} \\\n",
    "        --input ref_dict=\"\" \\ ## TODO add reference dictionary pathway\n",
    "        --input ref_fai=\"\" \\ ## TODO add reference fasta index pathway\n",
    "        --input ref_fasta=\"\" \\ ## TODO add reference fasta pathway\n",
    "        --input aou_crams=\"${bashArray[batch]}\" \\\n",
    "        --output-recursive OUTPUT_PATH=\"${OUTPUT_FILES}/${batch}\"\n",
    "done"
   ]
  }
 ],
 "metadata": {
  "kernelspec": {
   "display_name": "Python 3",
   "language": "python",
   "name": "python3"
  },
  "language_info": {
   "codemirror_mode": {
    "name": "ipython",
    "version": 3
   },
   "file_extension": ".py",
   "mimetype": "text/x-python",
   "name": "python",
   "nbconvert_exporter": "python",
   "pygments_lexer": "ipython3",
   "version": "3.7.12"
  },
  "toc": {
   "base_numbering": 1,
   "nav_menu": {},
   "number_sections": true,
   "sideBar": true,
   "skip_h1_title": false,
   "title_cell": "Table of Contents",
   "title_sidebar": "Contents",
   "toc_cell": false,
   "toc_position": {},
   "toc_section_display": true,
   "toc_window_display": false
  }
 },
 "nbformat": 4,
 "nbformat_minor": 2
}
